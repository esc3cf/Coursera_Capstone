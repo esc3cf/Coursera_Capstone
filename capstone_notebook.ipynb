{
 "cells": [
  {
   "cell_type": "code",
   "execution_count": 3,
   "metadata": {},
   "outputs": [
    {
     "name": "stdout",
     "output_type": "stream",
     "text": [
      "Hello Capstone Project Course!\n"
     ]
    }
   ],
   "source": [
    "#WEEK 1 instructions:\n",
    "#1. Write some markdown to explain that this notebook will be mainly used for the capstone project.\n",
    "    #This notebook will be mainly used for the Coursera Capstone project.\n",
    "    \n",
    "#2. Import the pandas library as pd.\n",
    "import pandas as pd\n",
    "\n",
    "#3. Import the Numpy library as np.\n",
    "import numpy as np\n",
    "\n",
    "#Print the following the statement: Hello Capstone Project Course!\n",
    "print(\"Hello Capstone Project Course!\")"
   ]
  },
  {
   "cell_type": "code",
   "execution_count": null,
   "metadata": {},
   "outputs": [],
   "source": []
  }
 ],
 "metadata": {
  "kernelspec": {
   "display_name": "Python 3",
   "language": "python",
   "name": "python3"
  },
  "language_info": {
   "codemirror_mode": {
    "name": "ipython",
    "version": 3
   },
   "file_extension": ".py",
   "mimetype": "text/x-python",
   "name": "python",
   "nbconvert_exporter": "python",
   "pygments_lexer": "ipython3",
   "version": "3.7.3"
  }
 },
 "nbformat": 4,
 "nbformat_minor": 2
}
